{
  "nbformat": 4,
  "nbformat_minor": 0,
  "metadata": {
    "colab": {
      "private_outputs": true,
      "provenance": []
    },
    "kernelspec": {
      "name": "python3",
      "display_name": "Python 3"
    },
    "language_info": {
      "name": "python"
    }
  },
  "cells": [
    {
      "cell_type": "code",
      "execution_count": null,
      "metadata": {
        "id": "E7BrnNbFJPGc"
      },
      "outputs": [],
      "source": [
        "from google.colab import drive\n",
        "drive.mount('/content/drive')"
      ]
    },
    {
      "cell_type": "code",
      "source": [
        "#import libraries\n",
        "\n",
        "import pandas as pd\n",
        "import numpy as np\n",
        "import seaborn as sns\n",
        "import matplotlib.pyplot as plt\n",
        "%matplotlib inline"
      ],
      "metadata": {
        "id": "eexrI_uPL4Hw"
      },
      "execution_count": null,
      "outputs": []
    },
    {
      "cell_type": "code",
      "source": [
        "file = '/content/drive/MyDrive/Colab Notebooks/HSDC Time series/Time_series_analysis_and_forecast_DATASET.csv'\n",
        "electricity_file = pd.read_csv(file)"
      ],
      "metadata": {
        "id": "nj9qwXpbL598"
      },
      "execution_count": null,
      "outputs": []
    },
    {
      "cell_type": "code",
      "source": [
        "electricity_file.head()"
      ],
      "metadata": {
        "id": "AgNzOI4LNQ-3"
      },
      "execution_count": null,
      "outputs": []
    },
    {
      "cell_type": "code",
      "source": [
        "electricity_file.shape"
      ],
      "metadata": {
        "id": "9OmxbMtXNgGr"
      },
      "execution_count": null,
      "outputs": []
    },
    {
      "cell_type": "code",
      "source": [
        "electricity_file.isnull().values.any()"
      ],
      "metadata": {
        "id": "CKbwhx12NuK3"
      },
      "execution_count": null,
      "outputs": []
    },
    {
      "cell_type": "code",
      "source": [
        "electricity_file[\"FullDate\"] = pd.to_datetime(electricity_file[\"FullDate\"])\n",
        "electricity_file.set_index(\"FullDate\", inplace=True)"
      ],
      "metadata": {
        "id": "HiU9C11UPjT-"
      },
      "execution_count": null,
      "outputs": []
    },
    {
      "cell_type": "code",
      "source": [
        "plt.figure(figsize=(10,6))\n",
        "plt.plot(electricity_file.index, electricity_file.ElecPrice, marker='*')\n",
        "plt.grid()\n",
        "plt.xlabel('Year')\n",
        "plt.ylabel('ElecPrice')"
      ],
      "metadata": {
        "id": "oFgOK4okVkKL"
      },
      "execution_count": null,
      "outputs": []
    },
    {
      "cell_type": "code",
      "source": [
        "\n",
        "#Resample data to a daily frequency and sum\n",
        "electricity_file = electricity_file.resample('D').sum()"
      ],
      "metadata": {
        "id": "csgIGH4oZ4do"
      },
      "execution_count": null,
      "outputs": []
    },
    {
      "cell_type": "code",
      "source": [
        "electricity_file"
      ],
      "metadata": {
        "id": "ssjeqb3b1RX2"
      },
      "execution_count": null,
      "outputs": []
    },
    {
      "cell_type": "code",
      "source": [
        "train = electricity_file[0:2757]\n",
        "test = electricity_file[2757:]"
      ],
      "metadata": {
        "id": "-DtwNhRooXJe"
      },
      "execution_count": null,
      "outputs": []
    },
    {
      "cell_type": "code",
      "source": [
        "train.shape"
      ],
      "metadata": {
        "id": "6trai2I59hYC"
      },
      "execution_count": null,
      "outputs": []
    },
    {
      "cell_type": "code",
      "source": [
        "!pip install pystan~=2.14\n",
        "!pip install fbprophet"
      ],
      "metadata": {
        "id": "1oaCxEK4js_n"
      },
      "execution_count": null,
      "outputs": []
    },
    {
      "cell_type": "code",
      "source": [
        "from fbprophet import Prophet"
      ],
      "metadata": {
        "id": "CP69n8n5p530"
      },
      "execution_count": null,
      "outputs": []
    },
    {
      "cell_type": "code",
      "source": [
        "train = train.rename(columns={\"FullDate\": \"ds\", \"ElecPrice\": \"y\"})\n",
        "train.head()"
      ],
      "metadata": {
        "id": "W0UWq2sQ0Ngc"
      },
      "execution_count": null,
      "outputs": []
    },
    {
      "cell_type": "code",
      "source": [],
      "metadata": {
        "id": "ceCS722WywtX"
      },
      "execution_count": null,
      "outputs": []
    },
    {
      "cell_type": "code",
      "source": [
        "def SysLoad(ds):\n",
        "  date = pd.to_datetime(ds)\n",
        "  if date.weekday() == 6 and (date.month > 8 or date.month < 2):\n",
        "    return 1\n",
        "  else:\n",
        "    return 0\n",
        "\n",
        "def Tmax(ds):\n",
        "  date = pd.to_datetime(ds)\n",
        "  if date.weekday() == 6 and (date.month > 8 or date.month < 2):\n",
        "    return 1\n",
        "  else:\n",
        "    return 0\n",
        "\n",
        "def GasPrice(ds):\n",
        "  date = pd.to_datetime(ds)\n",
        "  if date.weekday() == 6 and (date.month > 8 or date.month < 2):\n",
        "    return 1\n",
        "  else:\n",
        "    return 0\n",
        "train['add1'] = train['ds'].apply(SysLoad)\n",
        "train['add2'] = train['ds'].apply(Tmax)\n",
        "train['add3'] = train['ds'].apply(GasPrice)\n",
        "\n",
        "model = Prophet()\n",
        "model.add_regressor('SysLoad')\n",
        "                    \n",
        "model.add_regressor('Tmax')\n",
        "                    \n",
        "model.add_regressor('GasPrice')\n",
        "\n",
        "model.fit(train)\n",
        "\n",
        "future = model.make_future_dataframe(periods= 20 , freq= 'M' )\n",
        "future['SysLoad'] = future['ds'].apply(SysLoad)\n",
        "future['Tmax'] = future['ds'].apply(Tmax)\n",
        "future['GasPrice'] = future['ds'].apply(GasPrice)\n",
        "\n",
        "forecast = model.predict(future)\n",
        "fig = model.plot_components(forecast)"
      ],
      "metadata": {
        "id": "JokQ0x6nTkFt"
      },
      "execution_count": null,
      "outputs": []
    },
    {
      "cell_type": "code",
      "source": [
        "from sklearn.model_selection import train_test_split"
      ],
      "metadata": {
        "id": "pxrmPPOxqzRq"
      },
      "execution_count": null,
      "outputs": []
    },
    {
      "cell_type": "code",
      "source": [],
      "metadata": {
        "id": "YDtHACqrpiy2"
      },
      "execution_count": null,
      "outputs": []
    },
    {
      "cell_type": "code",
      "source": [
        "def rmse(predictions, targets):\n",
        "    differences = predictions - targets\n",
        "    differences_squared = differences ** 2\n",
        "    mean_of_differences_squared = np.mean(differences_squared)\n",
        "    rmse_val = np.sqrt(mean_of_differences_squared)\n",
        "    return rmse_val\n",
        "\n",
        "    "
      ],
      "metadata": {
        "id": "RIpaDKGAlcW4"
      },
      "execution_count": null,
      "outputs": []
    },
    {
      "cell_type": "code",
      "source": [],
      "metadata": {
        "id": "kStqK4024DXl"
      },
      "execution_count": null,
      "outputs": []
    }
  ]
}